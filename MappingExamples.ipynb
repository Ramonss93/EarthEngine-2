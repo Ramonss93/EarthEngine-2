{
 "cells": [
  {
   "cell_type": "markdown",
   "metadata": {},
   "source": [
    "This notebook is an attempt to teach new Google Earth Engine users the advantages of using the GEE map methods, and several examples of how to convert a traditional for-loop section of code to a version that uses mapping. \n",
    "\n",
    "Author: Christoph Steefel"
   ]
  },
  {
   "cell_type": "code",
   "execution_count": 1,
   "metadata": {
    "collapsed": true
   },
   "outputs": [],
   "source": [
    "# Import earth engine and initialize it.\n",
    "import ee\n",
    "ee.Initialize()"
   ]
  },
  {
   "cell_type": "code",
   "execution_count": 2,
   "metadata": {
    "collapsed": false
   },
   "outputs": [],
   "source": [
    "# import the feature collections and other items that will be used.\n",
    "watershed = ee.FeatureCollection('ft:1A8XfFw11WmvIcOhbU1KkvniNIO_DYfHTJ-FTfdWX')\n",
    "eastriver = watershed.filter(ee.Filter.Or(ee.Filter.stringContains('name', 'Upper East'),\n",
    "                            ee.Filter.stringContains('name', 'Middle East')))\n",
    "startDate = ee.Date('2000-01-01')\n",
    "precipData = ee.ImageCollection('NASA/ORNL/DAYMET').select(['prcp'])\n",
    "landsat = ee.ImageCollection('LANDSAT/LT5_L1T')"
   ]
  },
  {
   "cell_type": "markdown",
   "metadata": {},
   "source": [
    "This marks the beginning of the examples. They are in order, but contain  attempts to cache bust between them in order to keep the cache from interfering with the results."
   ]
  },
  {
   "cell_type": "markdown",
   "metadata": {},
   "source": [
    "In the following case, the performance of the two is similar, as the computation is nearly the same and not that intensive. (~2s)"
   ]
  },
  {
   "cell_type": "code",
   "execution_count": 3,
   "metadata": {
    "collapsed": false
   },
   "outputs": [
    {
     "name": "stdout",
     "output_type": "stream",
     "text": [
      "[{u'NDVI': 0.10028108625084792}, {u'NDVI': 0.06603136052511481}, {u'NDVI': 0.07368777141664831}, {u'NDVI': 0.1471169554260584}, {u'NDVI': 0.15068082005436986}, {u'NDVI': 0.2908393388420323}, {u'NDVI': 0.11869990847476414}, {u'NDVI': 0.15264142999504668}, {u'NDVI': 0.06676839452802721}, {u'NDVI': 0.04505618743963454}, {u'NDVI': 0.08102604098191415}, {u'NDVI': 0.05977321901328999}, {u'NDVI': 0.0766571620786479}, {u'NDVI': 0.06119461399634958}, {u'NDVI': 0.06199115384103681}, {u'NDVI': 0.089313852004698}, {u'NDVI': 0.08554726335659034}, {u'NDVI': 0.06715543477792763}, {u'NDVI': 0.07225472507234791}, {u'NDVI': 0.06227145977717991}, {u'NDVI': 0.08133701861109023}, {u'NDVI': 0.06637010398775961}, {u'NDVI': 0.09298041106307263}, {u'NDVI': 0.08398763301468959}, {u'NDVI': 0.098236305191784}, {u'NDVI': 0.07032105491834283}, {u'NDVI': 0.0798601167883726}, {u'NDVI': 0.07204498788621815}]\n",
      "1 loops, best of 1: 1.83 s per loop\n"
     ]
    }
   ],
   "source": [
    "%%timeit -n 1 -r 1\n",
    "# This is an exmaple of iterating through the collection with a for loop\n",
    "composites = []\n",
    "ystart = '-01-01'\n",
    "yend = '-12-31'\n",
    "col = ee.ImageCollection('LANDSAT/LT5_L1T_32DAY_NDVI')\n",
    "years = range(1984, 2012)\n",
    "for year in years:\n",
    "    # Filter and clip the collection\n",
    "    median = (col.filterDate(str(year) + ystart, str(year)+yend).median()).clip(eastriver.geometry())\n",
    "    # Calculate the mean for the watershed\n",
    "    meanVal = median.reduceRegion(ee.Reducer.mean(), scale=30)\n",
    "    composites.append(meanVal)\n",
    "print(ee.List(composites).getInfo())"
   ]
  },
  {
   "cell_type": "code",
   "execution_count": 4,
   "metadata": {
    "collapsed": false
   },
   "outputs": [],
   "source": [
    "x= precipData.limit(5000).getInfo()"
   ]
  },
  {
   "cell_type": "code",
   "execution_count": 5,
   "metadata": {
    "collapsed": false
   },
   "outputs": [
    {
     "name": "stdout",
     "output_type": "stream",
     "text": [
      "[{u'NDVI': 0.10028108625084792}, {u'NDVI': 0.06603136052511481}, {u'NDVI': 0.07368777141664831}, {u'NDVI': 0.1471169554260584}, {u'NDVI': 0.15068082005436986}, {u'NDVI': 0.2908393388420323}, {u'NDVI': 0.11869990847476414}, {u'NDVI': 0.15264142999504668}, {u'NDVI': 0.06676839452802721}, {u'NDVI': 0.04505618743963454}, {u'NDVI': 0.08102604098191415}, {u'NDVI': 0.05977321901328999}, {u'NDVI': 0.0766571620786479}, {u'NDVI': 0.06119461399634958}, {u'NDVI': 0.06199115384103681}, {u'NDVI': 0.089313852004698}, {u'NDVI': 0.08554726335659034}, {u'NDVI': 0.06715543477792763}, {u'NDVI': 0.07225472507234791}, {u'NDVI': 0.06227145977717991}, {u'NDVI': 0.08133701861109023}, {u'NDVI': 0.06637010398775961}, {u'NDVI': 0.09298041106307263}, {u'NDVI': 0.08398763301468959}, {u'NDVI': 0.098236305191784}, {u'NDVI': 0.07032105491834283}, {u'NDVI': 0.0798601167883726}, {u'NDVI': 0.07204498788621815}]\n",
      "1 loops, best of 1: 2.18 s per loop\n"
     ]
    }
   ],
   "source": [
    "%%timeit -n 1 -r 1\n",
    "# Using mapping on the collection\n",
    "col = ee.ImageCollection('LANDSAT/LT5_L1T_32DAY_NDVI')\n",
    "def mapFunc(i):\n",
    "    # Create a yearly median\n",
    "    median = col.filterDate(date.advance(ee.Number(i), 'year'), date.advance(ee.Number(i).add(ee.Number(1)), 'year'))\\\n",
    "        .median().clip(eastriver.geometry())\n",
    "        # Return the mean value for the watershed\n",
    "    return median.reduceRegion(ee.Reducer.mean(), scale=30)\n",
    "date = ee.Date('1984-01-01')\n",
    "years = ee.List.sequence(0, 27)\n",
    "# Map through the numbers corresponding to the numbers of years after 1984 (up to 2011)\n",
    "composites = years.map(mapFunc)\n",
    "print(composites.getInfo())"
   ]
  },
  {
   "cell_type": "markdown",
   "metadata": {},
   "source": [
    "The next computations have slightly more of a difference, and the mapping version is usually faster. The difference between the pieces of code is still small however."
   ]
  },
  {
   "cell_type": "code",
   "execution_count": 6,
   "metadata": {
    "collapsed": false
   },
   "outputs": [
    {
     "name": "stdout",
     "output_type": "stream",
     "text": [
      "[{u'prcp': 27.314198124308593}, {u'prcp': 12.315825188467135}, {u'prcp': 2.9342125594213897}, {u'prcp': 22.98399187144802}, {u'prcp': 47.907048157574984}, {u'prcp': 21.758396612278396}, {u'prcp': 7.28621246057603}, {u'prcp': 3.714570933268781}, {u'prcp': 67.17812836076422}, {u'prcp': 25.777006281248866}, {u'prcp': 7.106404649194199}, {u'prcp': 39.74517053314551}, {u'prcp': 8.04285731049844}, {u'prcp': 33.68238323867229}, {u'prcp': 19.931780353828234}, {u'prcp': 17.34795865426729}, {u'prcp': 10.696869696772154}, {u'prcp': 10.896639032141815}, {u'prcp': 18.07048173594963}, {u'prcp': 0.0}, {u'prcp': 4.013759195465761}, {u'prcp': 13.671505719015444}, {u'prcp': 24.31387861897142}, {u'prcp': 2.3419251399094927}, {u'prcp': 0.0}, {u'prcp': 23.68129413699416}, {u'prcp': 2.6659643490117437}, {u'prcp': 9.095374776256195}, {u'prcp': 3.5045245400124436}, {u'prcp': 10.226512923355168}, {u'prcp': 0.0}, {u'prcp': 0.0}, {u'prcp': 4.607903010074713}, {u'prcp': 0.0}, {u'prcp': 20.008690324893937}, {u'prcp': 13.082436682472972}, {u'prcp': 1.2992955983679209}, {u'prcp': 0.0}, {u'prcp': 17.036794078439822}, {u'prcp': 35.419596777255784}, {u'prcp': 0.0}, {u'prcp': 2.3161645790315517}, {u'prcp': 0.0}, {u'prcp': 0.0}, {u'prcp': 16.650602880838857}, {u'prcp': 18.293955583812018}, {u'prcp': 26.76205465301517}, {u'prcp': 15.018353083455942}, {u'prcp': 4.984423499027825}, {u'prcp': 9.513274780918128}, {u'prcp': 23.180021342275893}, {u'prcp': 0.0}, {u'prcp': 11.574895815827885}, {u'prcp': 15.48383667455895}, {u'prcp': 6.212545944286781}, {u'prcp': 11.341015285632052}, {u'prcp': 0.0}, {u'prcp': 2.380887348926343}, {u'prcp': 0.0}, {u'prcp': 12.664586821425232}, {u'prcp': 13.609253903872673}, {u'prcp': 24.939238355347317}, {u'prcp': 13.474726396896246}, {u'prcp': 18.93417371013577}, {u'prcp': 3.1065810930378785}, {u'prcp': 0.0}, {u'prcp': 0.537991617685865}, {u'prcp': 0.0}, {u'prcp': 30.170676807425274}, {u'prcp': 44.217208939949906}, {u'prcp': 15.758166059790241}, {u'prcp': 8.71027286056189}, {u'prcp': 0.0}, {u'prcp': 0.020708031036494292}]\n",
      "1 loops, best of 1: 2.35 s per loop\n"
     ]
    }
   ],
   "source": [
    "%%timeit -n 1 -r 1\n",
    "# Using a for loop for aggregation by date.\n",
    "result = []\n",
    "for i in range(0, 366, 5):\n",
    "    # filter to the 5 day region defined by i and i+5, sum, and clip the image\n",
    "    sum = precipData.filterDate(startDate.advance(i, 'day'), startDate.advance(i+5, 'day')).sum()\\\n",
    "        .clip(eastriver.geometry())\n",
    "    # Calculate the mean precipitation \n",
    "    result.append(sum.reduceRegion(ee.Reducer.mean(), scale=30))\n",
    "print(ee.List(result).getInfo())"
   ]
  },
  {
   "cell_type": "code",
   "execution_count": 7,
   "metadata": {
    "collapsed": true
   },
   "outputs": [],
   "source": [
    "x = landsat.limit(5000).getInfo()"
   ]
  },
  {
   "cell_type": "code",
   "execution_count": 8,
   "metadata": {
    "collapsed": false
   },
   "outputs": [
    {
     "name": "stdout",
     "output_type": "stream",
     "text": [
      "[{u'prcp': 27.314198124308593}, {u'prcp': 12.315825188467135}, {u'prcp': 2.9342125594213897}, {u'prcp': 22.98399187144802}, {u'prcp': 47.907048157574984}, {u'prcp': 21.758396612278396}, {u'prcp': 7.28621246057603}, {u'prcp': 3.714570933268781}, {u'prcp': 67.17812836076422}, {u'prcp': 25.777006281248866}, {u'prcp': 7.106404649194199}, {u'prcp': 39.74517053314551}, {u'prcp': 8.04285731049844}, {u'prcp': 33.68238323867229}, {u'prcp': 19.931780353828234}, {u'prcp': 17.34795865426729}, {u'prcp': 10.696869696772154}, {u'prcp': 10.896639032141815}, {u'prcp': 18.07048173594963}, {u'prcp': 0.0}, {u'prcp': 4.013759195465761}, {u'prcp': 13.671505719015444}, {u'prcp': 24.31387861897142}, {u'prcp': 2.3419251399094927}, {u'prcp': 0.0}, {u'prcp': 23.68129413699416}, {u'prcp': 2.6659643490117437}, {u'prcp': 9.095374776256195}, {u'prcp': 3.5045245400124436}, {u'prcp': 10.226512923355168}, {u'prcp': 0.0}, {u'prcp': 0.0}, {u'prcp': 4.607903010074713}, {u'prcp': 0.0}, {u'prcp': 20.008690324893937}, {u'prcp': 13.082436682472972}, {u'prcp': 1.2992955983679209}, {u'prcp': 0.0}, {u'prcp': 17.036794078439822}, {u'prcp': 35.419596777255784}, {u'prcp': 0.0}, {u'prcp': 2.3161645790315517}, {u'prcp': 0.0}, {u'prcp': 0.0}, {u'prcp': 16.650602880838857}, {u'prcp': 18.293955583812018}, {u'prcp': 26.76205465301517}, {u'prcp': 15.018353083455942}, {u'prcp': 4.984423499027825}, {u'prcp': 9.513274780918128}, {u'prcp': 23.180021342275893}, {u'prcp': 0.0}, {u'prcp': 11.574895815827885}, {u'prcp': 15.48383667455895}, {u'prcp': 6.212545944286781}, {u'prcp': 11.341015285632052}, {u'prcp': 0.0}, {u'prcp': 2.380887348926343}, {u'prcp': 0.0}, {u'prcp': 12.664586821425232}, {u'prcp': 13.609253903872673}, {u'prcp': 24.939238355347317}, {u'prcp': 13.474726396896246}, {u'prcp': 18.93417371013577}, {u'prcp': 3.1065810930378785}, {u'prcp': 0.0}, {u'prcp': 0.537991617685865}, {u'prcp': 0.0}, {u'prcp': 30.170676807425274}, {u'prcp': 44.217208939949906}, {u'prcp': 15.758166059790241}, {u'prcp': 8.71027286056189}, {u'prcp': 0.0}, {u'prcp': 0.020708031036494292}]\n",
      "1 loops, best of 1: 1.63 s per loop\n"
     ]
    }
   ],
   "source": [
    "%%timeit -n 1 -r 1\n",
    "# with mapping\n",
    "def aggregator(i):\n",
    "    i = ee.Number(i)\n",
    "    start = startDate.advance(i.multiply(5), 'day')\n",
    "    end = start.advance(5, 'day')\n",
    "    # Filter to the 5 day period, sum, and clip\n",
    "    sum = precipData.filterDate(start, end).sum().clip(eastriver.geometry())\n",
    "    # return the mean value.\n",
    "    return sum.reduceRegion(ee.Reducer.mean(), scale=30)\n",
    "# The steps to map with are numbers becuase this allows us to properly aggregate over each 5-day period.\n",
    "steps = ee.List.sequence(0, 365/5)\n",
    "res = steps.map(aggregator)\n",
    "print(res.getInfo())"
   ]
  },
  {
   "cell_type": "code",
   "execution_count": 9,
   "metadata": {
    "collapsed": true
   },
   "outputs": [],
   "source": [
    "landsat = ee.ImageCollection('LANDSAT/LT5_L1T')\n",
    "landsat = landsat.filterDate('2000-01-01', '2000-12-31').filterBounds(eastriver.geometry())\n",
    "# 365 is arbitrary, but larger than the number of possible images in the collection.\n",
    "lst = landsat.toList(365)"
   ]
  },
  {
   "cell_type": "markdown",
   "metadata": {},
   "source": [
    "The following example shows mapping as much faster. Landsat is converted to a list in order to allow the mapping to return a non-Feature and non-Image item. Generally when mapping, an Image is returned, and so conversion to a list is unneeded. Both these examples would fail if the collection had over 5000 elements, but the mapping version could be changed to use the ImageCollection and return Features that could be exported, getting around the limit to some extent."
   ]
  },
  {
   "cell_type": "code",
   "execution_count": 10,
   "metadata": {
    "collapsed": false
   },
   "outputs": [
    {
     "name": "stdout",
     "output_type": "stream",
     "text": [
      "[{u'nd': -0.09080041725518817}, {u'nd': -0.0577632996436818}, {u'nd': -0.0898644790287846}, {u'nd': -0.09685885722396875}, {u'nd': -0.05084229286192648}, {u'nd': 0.0964246615705362}, {u'nd': -0.0032693602243703784}, {u'nd': 0.16657020902014982}, {u'nd': 0.24293099765399528}, {u'nd': 0.35166942258574757}, {u'nd': -0.0306726125865453}, {u'nd': 0.2846917356841681}, {u'nd': 0.29315717326071256}, {u'nd': 0.11700711031661762}, {u'nd': 0.18281540248980663}, {u'nd': -0.02358583953868348}, {u'nd': -0.07358403006146398}, {u'nd': -0.040772686997260596}, {u'nd': -0.07107349344101457}, {u'nd': -0.052735115088967395}, {u'nd': -0.07823373019069566}, {u'nd': -0.11342093544219707}, {u'nd': -0.06768029013604737}, {u'nd': -0.05915361897413456}, {u'nd': 0.202927172115082}, {u'nd': 0.3630570008765785}, {u'nd': 0.05536616064676066}, {u'nd': 0.3962040517724982}, {u'nd': 0.21729903576164886}, {u'nd': 0.30479740948024336}, {u'nd': 0.3374369829843147}, {u'nd': 0.09180466177949793}, {u'nd': 0.04253701011623666}, {u'nd': -0.052415940593029293}, {u'nd': -0.07830174383199823}]\n",
      "1 loops, best of 1: 3.85 s per loop\n"
     ]
    }
   ],
   "source": [
    "%%timeit -n 1 -r 1 # Calculate the NDVI by hand and then find the mean NDVI from each scene. for-loop\n",
    "length = lst.length().getInfo()\n",
    "means = []\n",
    "for i in range(length):\n",
    "    img = ee.Image(lst.get(i))\n",
    "    # calculate the NDVI\n",
    "    img = img.normalizedDifference(['B4', 'B3']).clip(eastriver.geometry())\n",
    "    # Calculate the mean NDVI for the region\n",
    "    means.append(img.reduceRegion(ee.Reducer.mean(), scale=30))\n",
    "print(ee.List(means).getInfo())"
   ]
  },
  {
   "cell_type": "code",
   "execution_count": 11,
   "metadata": {
    "collapsed": false
   },
   "outputs": [],
   "source": [
    "# Cache bust\n",
    "x = precipData.limit(5000).getInfo()"
   ]
  },
  {
   "cell_type": "code",
   "execution_count": 12,
   "metadata": {
    "collapsed": false
   },
   "outputs": [
    {
     "name": "stdout",
     "output_type": "stream",
     "text": [
      "[{u'nd': -0.09080041725518817}, {u'nd': -0.0577632996436818}, {u'nd': -0.0898644790287846}, {u'nd': -0.09685885722396875}, {u'nd': -0.05084229286192648}, {u'nd': 0.0964246615705362}, {u'nd': -0.0032693602243703784}, {u'nd': 0.16657020902014982}, {u'nd': 0.24293099765399528}, {u'nd': 0.35166942258574757}, {u'nd': -0.0306726125865453}, {u'nd': 0.2846917356841681}, {u'nd': 0.29315717326071256}, {u'nd': 0.11700711031661762}, {u'nd': 0.18281540248980663}, {u'nd': -0.02358583953868348}, {u'nd': -0.07358403006146398}, {u'nd': -0.040772686997260596}, {u'nd': -0.07107349344101457}, {u'nd': -0.052735115088967395}, {u'nd': -0.07823373019069566}, {u'nd': -0.11342093544219707}, {u'nd': -0.06768029013604737}, {u'nd': -0.05915361897413456}, {u'nd': 0.202927172115082}, {u'nd': 0.3630570008765785}, {u'nd': 0.05536616064676066}, {u'nd': 0.3962040517724982}, {u'nd': 0.21729903576164886}, {u'nd': 0.30479740948024336}, {u'nd': 0.3374369829843147}, {u'nd': 0.09180466177949793}, {u'nd': 0.04253701011623666}, {u'nd': -0.052415940593029293}, {u'nd': -0.07830174383199823}]\n",
      "1 loops, best of 1: 2.59 s per loop\n"
     ]
    }
   ],
   "source": [
    "%%timeit -n 1 -r 1 # Calculate the NDVI in a mapped function, then create a feature with the data.\n",
    "def getMeans(img):\n",
    "    # Calculate the NDVI\n",
    "    img = ee.Image(img).normalizedDifference(['B4', 'B3']).clip(eastriver.geometry())\n",
    "    # Calculate  the regional mean\n",
    "    return img.reduceRegion(ee.Reducer.mean(), scale=30)\n",
    "# Uses a list so that we don't have to return an Image or Feature.\n",
    "results = lst.map(getMeans)\n",
    "print(results.getInfo())"
   ]
  },
  {
   "cell_type": "code",
   "execution_count": 3,
   "metadata": {
    "collapsed": false
   },
   "outputs": [],
   "source": [
    "# This saves various variables and defines functions for use in the following cells.\n",
    "import time\n",
    "meadow = ee.FeatureCollection('ft:1UhHMn17CQWhgeELhXGOMPwLCYLdKjBtkcHarn6AN')\n",
    "landsatData = ee.ImageCollection('LEDAPS/LT5_L1T_SR').select(['B3', 'B4', 'QA']).filterDate('1995-01-01', '2005-12-31')\n",
    "landsatData = landsatData.filter(ee.Filter.Or(ee.Filter.equals('WRS_PATH', 35), ee.Filter.equals('WRS_PATH', 34)))\\\n",
    "                        .filterMetadata('WRS_ROW', 'equals', 33)\n",
    "points = meadow\n",
    "def calcNDVI(img):\n",
    "    \"\"\" Calculates NDVI, keeps date values\"\"\"\n",
    "    img = maskClouds(img).clip(watershed)\n",
    "    img = img.normalizedDifference(['B4', 'B3']).rename(['NDVI']).addBands(img.metadata('system:time_start'))\n",
    "    return img\n",
    "\n",
    "def maskClouds(image):                                                          \n",
    "    \"\"\" Masks clouds based on bits pulled from the LEDAPS QA band.\"\"\"              \n",
    "    sc = image.select('QA')                                                        \n",
    "    return image.mask(image.mask().And(                                            \n",
    "                      sc.bitwiseNot().bitwiseAnd(ee.Image(0x6000)))) \n",
    "\n",
    "def mappedSample(img):\n",
    "    \"\"\" Combines all steps of masking clouds, calculating NDVI, and sampling the points into one.\"\"\"\n",
    "    img = maskClouds(img).clip(watershed)\n",
    "    img = img.normalizedDifference(['B4', 'B3']).rename(['NDVI']).addBands(img.metadata('system:time_start'))\n",
    "    result = points.map(lambda ft: img.sample(ee.Feature(ft).geometry(), scale=30))\n",
    "    return result.flatten()"
   ]
  },
  {
   "cell_type": "markdown",
   "metadata": {
    "collapsed": true
   },
   "source": [
    "The following example involves exporting, so the timing is also dependent on how long the export takes, which can vary quite a bit. However, the times should still reflect the improved performance of using mapping. \n"
   ]
  },
  {
   "cell_type": "code",
   "execution_count": 4,
   "metadata": {
    "collapsed": false
   },
   "outputs": [
    {
     "name": "stdout",
     "output_type": "stream",
     "text": [
      "COMPLETED\n",
      "1 loops, best of 1: 5min 27s per loop\n"
     ]
    }
   ],
   "source": [
    "%%timeit -n 1 -r 1 # For loop version\n",
    "lst = landsatData.toList(5000)\n",
    "points = meadow.toList(100)\n",
    "plength = points.length().getInfo()\n",
    "length = lst.length().getInfo()\n",
    "results = []\n",
    "\n",
    "for i in range(length):\n",
    "    img = ee.Image(lst.get(i))\n",
    "    img = calcNDVI(img)\n",
    "    for j in range(plength):\n",
    "        point = ee.Feature(points.get(j)).geometry()\n",
    "        results.append(img.sample(point, 30))\n",
    "results = ee.FeatureCollection(results).flatten()\n",
    "task = ee.batch.Export.table(results, 'forTest', {'fileFormat': 'CSV'})\n",
    "task.start()\n",
    "# This would never be included in a normal script, but blocks the script until the export\n",
    "# is done in order to represent the total time of all calculations.\n",
    "while task.active():\n",
    "    # Requires a sleep to not spam google servers. Has a negligible effect on timing.\n",
    "    time.sleep(5)\n",
    "print(task.status()['state'])"
   ]
  },
  {
   "cell_type": "code",
   "execution_count": 5,
   "metadata": {
    "collapsed": false
   },
   "outputs": [],
   "source": [
    "# Cache busting\n",
    "x = precipData.limit(5000).getInfo()"
   ]
  },
  {
   "cell_type": "code",
   "execution_count": 6,
   "metadata": {
    "collapsed": false
   },
   "outputs": [
    {
     "name": "stdout",
     "output_type": "stream",
     "text": [
      "COMPLETED\n",
      "1 loops, best of 1: 4min 51s per loop\n"
     ]
    }
   ],
   "source": [
    "%%timeit -n 1 -r 1  #Map version\n",
    "results = ee.FeatureCollection(landsatData.map(mappedSample)).flatten()\n",
    "task = ee.batch.Export.table(results, 'mapTest', {'fileFormat': 'CSV'})\n",
    "task.start()\n",
    "# This would never be included in a normal script, but blocks the script until the export\n",
    "# is done in order to represent the total time of all calculations.\n",
    "while task.active():\n",
    "    # requires a sleep to not spam google servers.\n",
    "    time.sleep(5)\n",
    "print(task.status()['state'])"
   ]
  },
  {
   "cell_type": "markdown",
   "metadata": {},
   "source": [
    "Obviously, the map version is simpler, and provides the advantage of using potentially reusable functions. For example, maskClouds is usable for cloud masking with any LEDAPS surface reflectance image. The outputs are slightly different, as the mapped version keeps the Landsat scene id in the system_index."
   ]
  },
  {
   "cell_type": "code",
   "execution_count": 7,
   "metadata": {
    "collapsed": true
   },
   "outputs": [],
   "source": [
    "# Identifying days in which the Daymet max temp surpasses 15 degrees in the entire eastriver watershed for some of 2011.\n",
    "tempData = ee.ImageCollection('NASA/ORNL/DAYMET').select('tmax')\n",
    "tempData = tempData.filterDate('2011-01-01', '2011-12-31')\n",
    "tempData = tempData.toList(365)\n",
    "results = []"
   ]
  },
  {
   "cell_type": "code",
   "execution_count": 15,
   "metadata": {
    "collapsed": false
   },
   "outputs": [
    {
     "name": "stdout",
     "output_type": "stream",
     "text": [
      "[0, 0, 0, 0, 0, 0, 0, 0, 0, 0, 0, 0, 0, 0, 0, 0, 0, 0, 0, 0, 0, 0, 0, 0, 0, 0, 0, 0, 0, 0, 0, 0, 0, 0, 0, 0, 0, 0, 0, 0, 0, 0, 0, 0, 0, 0, 0, 0, 0, 0, 0, 0, 0, 0, 0, 0, 0, 0, 0, 0, 0, 0, 0, 0, 0, 0, 0, 0, 0, 0, 0, 0, 0, 0, 0, 0, 0, 0, 0, 0, 0, 0, 0, 0, 0, 0, 0, 0, 0, 0, 0, 0, 0, 0, 0, 0, 0, 0, 0, 0, 0, 0, 0, 0, 0, 0, 0, 0, 0, 0, 0, 0, 0, 0, 0, 0, 0, 0, 0, 0, 0, 0, 0, 0, 0, 0, 0, 0, 0, 0, 0, 0, 0, 0, 0, 0, 0, 0, 0, 0, 0, 0, 0, 0, 0, 0, 0, 0, 0, 0, 0, 0, 0, 0, 0, 0, 0, 0, 0, 0, 0, 0, 0, 0, 0, 0, 0, 0, 0, 0, 0, 0, 1, 1, 0, 0, 0, 0, 1, 0, 0, 0, 1, 1, 1, 0, 0, 0, 0, 0, 0, 0, 0, 1, 1, 0, 0, 1, 1, 0, 1, 1, 1, 1, 1, 1, 0, 0, 1, 1, 1, 0, 0, 0, 0, 0, 1, 1, 0, 0, 1, 0, 0, 1, 1, 0, 1, 1, 1, 1, 0, 1, 0, 0, 1, 1, 0, 0, 1, 0, 0, 0, 0, 0, 0, 0, 0, 0, 0, 0, 0, 0, 0, 0, 0, 0, 0, 0, 0, 0, 0, 0, 0, 0, 0, 0, 0, 0, 0, 0, 0, 0, 0, 0, 0, 0, 0, 0, 0, 0, 0, 0, 0, 0, 0, 0, 0, 0, 0, 0, 0, 0, 0, 0, 0, 0, 0, 0, 0, 0, 0, 0, 0, 0, 0, 0, 0, 0, 0, 0, 0, 0, 0, 0, 0, 0, 0, 0, 0, 0, 0, 0, 0, 0, 0, 0, 0, 0, 0, 0, 0, 0, 0, 0, 0, 0, 0, 0, 0, 0, 0, 0, 0, 0, 0, 0, 0, 0, 0, 0, 0, 0, 0, 0, 0, 0, 0, 0, 0, 0, 0, 0, 0, 0]\n",
      "1 loops, best of 1: 4.29 s per loop\n"
     ]
    }
   ],
   "source": [
    "%%timeit -n 1 -r 1 # Use a for-loop, slower\n",
    "length = tempData.length().getInfo()\n",
    "results = []\n",
    "for i in range(length):\n",
    "    img = ee.Image(tempData.get(i))\n",
    "    result = ee.Number(ee.Image(img.gt(15)).reduceRegion(geometry=eastriver.geometry(), reducer=ee.Reducer.mean(),\n",
    "                                                     scale=30).get('tmax'))\n",
    "    results.append(ee.Algorithms.If(result.eq(1), 1, 0))\n",
    "print(ee.List(results).getInfo())\n"
   ]
  },
  {
   "cell_type": "code",
   "execution_count": 16,
   "metadata": {
    "collapsed": true
   },
   "outputs": [],
   "source": [
    "# Cache busting\n",
    "x = precipData.limit(5000).getInfo()"
   ]
  },
  {
   "cell_type": "code",
   "execution_count": 17,
   "metadata": {
    "collapsed": false
   },
   "outputs": [
    {
     "name": "stdout",
     "output_type": "stream",
     "text": [
      "[0, 0, 0, 0, 0, 0, 0, 0, 0, 0, 0, 0, 0, 0, 0, 0, 0, 0, 0, 0, 0, 0, 0, 0, 0, 0, 0, 0, 0, 0, 0, 0, 0, 0, 0, 0, 0, 0, 0, 0, 0, 0, 0, 0, 0, 0, 0, 0, 0, 0, 0, 0, 0, 0, 0, 0, 0, 0, 0, 0, 0, 0, 0, 0, 0, 0, 0, 0, 0, 0, 0, 0, 0, 0, 0, 0, 0, 0, 0, 0, 0, 0, 0, 0, 0, 0, 0, 0, 0, 0, 0, 0, 0, 0, 0, 0, 0, 0, 0, 0, 0, 0, 0, 0, 0, 0, 0, 0, 0, 0, 0, 0, 0, 0, 0, 0, 0, 0, 0, 0, 0, 0, 0, 0, 0, 0, 0, 0, 0, 0, 0, 0, 0, 0, 0, 0, 0, 0, 0, 0, 0, 0, 0, 0, 0, 0, 0, 0, 0, 0, 0, 0, 0, 0, 0, 0, 0, 0, 0, 0, 0, 0, 0, 0, 0, 0, 0, 0, 0, 0, 0, 0, 1, 1, 0, 0, 0, 0, 1, 0, 0, 0, 1, 1, 1, 0, 0, 0, 0, 0, 0, 0, 0, 1, 1, 0, 0, 1, 1, 0, 1, 1, 1, 1, 1, 1, 0, 0, 1, 1, 1, 0, 0, 0, 0, 0, 1, 1, 0, 0, 1, 0, 0, 1, 1, 0, 1, 1, 1, 1, 0, 1, 0, 0, 1, 1, 0, 0, 1, 0, 0, 0, 0, 0, 0, 0, 0, 0, 0, 0, 0, 0, 0, 0, 0, 0, 0, 0, 0, 0, 0, 0, 0, 0, 0, 0, 0, 0, 0, 0, 0, 0, 0, 0, 0, 0, 0, 0, 0, 0, 0, 0, 0, 0, 0, 0, 0, 0, 0, 0, 0, 0, 0, 0, 0, 0, 0, 0, 0, 0, 0, 0, 0, 0, 0, 0, 0, 0, 0, 0, 0, 0, 0, 0, 0, 0, 0, 0, 0, 0, 0, 0, 0, 0, 0, 0, 0, 0, 0, 0, 0, 0, 0, 0, 0, 0, 0, 0, 0, 0, 0, 0, 0, 0, 0, 0, 0, 0, 0, 0, 0, 0, 0, 0, 0, 0, 0, 0, 0, 0, 0, 0, 0, 0]\n",
      "1 loops, best of 1: 1.82 s per loop\n"
     ]
    }
   ],
   "source": [
    "%%timeit -n 1 -r 1 # Use a map mathod, faster\n",
    "def findHighTemp(img):\n",
    "    result = ee.Image(img).gt(15).reduceRegion(ee.Reducer.mean(), eastriver.geometry(), scale=30).get('tmax')\n",
    "    return ee.Algorithms.If(ee.Number(result).eq(1), 1, 0)\n",
    "print(tempData.map(findHighTemp).getInfo())"
   ]
  },
  {
   "cell_type": "code",
   "execution_count": 8,
   "metadata": {
    "collapsed": false
   },
   "outputs": [
    {
     "name": "stdout",
     "output_type": "stream",
     "text": [
      "{u'provider_url': u'http://landsat.usgs.gov/', u'system:visualization_0_max': u'2000,2000,2000', u'description': u'Landsat surface reflectance images as computed by the   LEDAPS method (http://ledaps.nascom.nasa.gov/).  Reflectance is a unitless   ratio rescaled to 0-10000.  An additional atmos_opacity band is added with a   representation of atmospheric opacity due to moisture and other factors.  A   QA band is added with the the following indicator bits,   0:unused,   1:valid data (0=yes, 1=no),   2:ACCA cloud bit (1=cloudy, 0=clear),   3:unused,   4:ACCA snow mask,   5:land mask based on DEM (1=land, 0=water),   6:DDV (Dense Dark Vegetation)', u'title': u'Landsat 5 Surface Reflectance', u'tags': [u'landsat', u'usgs', u'l5', u'lt5', u'tm', u'ledaps', u'surface_reflectance'], u'period': 0, u'system:visualization_0_name': u'True Color', u'date_range': [441763200000, 1336176000000], u'link': u'LT5_L1T_SR', u'provider': u'Google', u'system:visualization_0_min': u'0,0,0', u'system:visualization_0_bands': u'30,20,10'}\n"
     ]
    },
    {
     "ename": "AttributeError",
     "evalue": "'List' object has no attribute 'limit'",
     "output_type": "error",
     "traceback": [
      "\u001b[0;31m---------------------------------------------------------------------------\u001b[0m",
      "\u001b[0;31mAttributeError\u001b[0m                            Traceback (most recent call last)",
      "\u001b[0;32m<ipython-input-8-0d0e7804da1b>\u001b[0m in \u001b[0;36m<module>\u001b[0;34m()\u001b[0m\n\u001b[1;32m      4\u001b[0m \u001b[0mcounterFunc\u001b[0m\u001b[0;34m.\u001b[0m\u001b[0mx\u001b[0m \u001b[0;34m=\u001b[0m \u001b[0;36m0\u001b[0m\u001b[0;34m\u001b[0m\u001b[0m\n\u001b[1;32m      5\u001b[0m \u001b[0;32mprint\u001b[0m\u001b[0;34m(\u001b[0m\u001b[0mee\u001b[0m\u001b[0;34m.\u001b[0m\u001b[0mImageCollection\u001b[0m\u001b[0;34m(\u001b[0m\u001b[0mlandsatData\u001b[0m\u001b[0;34m.\u001b[0m\u001b[0mlimit\u001b[0m\u001b[0;34m(\u001b[0m\u001b[0;36m5\u001b[0m\u001b[0;34m)\u001b[0m\u001b[0;34m)\u001b[0m\u001b[0;34m.\u001b[0m\u001b[0mmap\u001b[0m\u001b[0;34m(\u001b[0m\u001b[0mcounterFunc\u001b[0m\u001b[0;34m)\u001b[0m\u001b[0;34m.\u001b[0m\u001b[0mgetInfo\u001b[0m\u001b[0;34m(\u001b[0m\u001b[0;34m)\u001b[0m\u001b[0;34m[\u001b[0m\u001b[0;34m'properties'\u001b[0m\u001b[0;34m]\u001b[0m\u001b[0;34m)\u001b[0m\u001b[0;34m\u001b[0m\u001b[0m\n\u001b[0;32m----> 6\u001b[0;31m \u001b[0;32mprint\u001b[0m\u001b[0;34m(\u001b[0m\u001b[0mtempData\u001b[0m\u001b[0;34m.\u001b[0m\u001b[0mlimit\u001b[0m\u001b[0;34m(\u001b[0m\u001b[0;36m5\u001b[0m\u001b[0;34m)\u001b[0m\u001b[0;34m.\u001b[0m\u001b[0mmap\u001b[0m\u001b[0;34m(\u001b[0m\u001b[0mcounterFunc\u001b[0m\u001b[0;34m)\u001b[0m\u001b[0;34m.\u001b[0m\u001b[0mgetInfo\u001b[0m\u001b[0;34m(\u001b[0m\u001b[0;34m)\u001b[0m\u001b[0;34m[\u001b[0m\u001b[0;34m'properties'\u001b[0m\u001b[0;34m]\u001b[0m\u001b[0;34m[\u001b[0m\u001b[0;34m'count'\u001b[0m\u001b[0;34m]\u001b[0m\u001b[0;34m)\u001b[0m\u001b[0;34m\u001b[0m\u001b[0m\n\u001b[0m",
      "\u001b[0;31mAttributeError\u001b[0m: 'List' object has no attribute 'limit'"
     ]
    }
   ],
   "source": [
    "def counterFunc(img):\n",
    "    counterFunc.x += 1\n",
    "    return ee.Image(img).set({'count': counterFunc.x})\n",
    "counterFunc.x = 0\n",
    "print(ee.ImageCollection(landsatData.limit(5)).map(counterFunc).getInfo()['properties'])\n",
    "print(tempData.slice(0 ,5).map(counterFunc).getInfo()['properties']['count'])"
   ]
  },
  {
   "cell_type": "code",
   "execution_count": null,
   "metadata": {
    "collapsed": true
   },
   "outputs": [],
   "source": []
  }
 ],
 "metadata": {
  "kernelspec": {
   "display_name": "Python 2",
   "language": "python",
   "name": "python2"
  },
  "language_info": {
   "codemirror_mode": {
    "name": "ipython",
    "version": 2
   },
   "file_extension": ".py",
   "mimetype": "text/x-python",
   "name": "python",
   "nbconvert_exporter": "python",
   "pygments_lexer": "ipython2",
   "version": "2.7.10"
  }
 },
 "nbformat": 4,
 "nbformat_minor": 0
}
